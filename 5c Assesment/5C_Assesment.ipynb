{
  "cells": [
    {
      "cell_type": "code",
      "execution_count": 40,
      "metadata": {
        "id": "Vf8-7CEGka-9"
      },
      "outputs": [],
      "source": [
        "import pandas as pd\n",
        "import matplotlib.pyplot as plt\n",
        "import seaborn as sns\n",
        "import numpy as np"
      ]
    },
    {
      "cell_type": "code",
      "execution_count": 2,
      "metadata": {
        "id": "-KiaJRtAkeZa"
      },
      "outputs": [],
      "source": [
        "df = pd.read_csv(r'data\\sales_data_1.csv')"
      ]
    },
    {
      "cell_type": "code",
      "execution_count": 5,
      "metadata": {
        "colab": {
          "base_uri": "https://localhost:8080/",
          "height": 423
        },
        "id": "yKjjU6BHkhn8",
        "outputId": "174d234f-12c7-49cf-a8f9-5559bdac9fc8"
      },
      "outputs": [
        {
          "data": {
            "text/html": [
              "<div>\n",
              "<style scoped>\n",
              "    .dataframe tbody tr th:only-of-type {\n",
              "        vertical-align: middle;\n",
              "    }\n",
              "\n",
              "    .dataframe tbody tr th {\n",
              "        vertical-align: top;\n",
              "    }\n",
              "\n",
              "    .dataframe thead th {\n",
              "        text-align: right;\n",
              "    }\n",
              "</style>\n",
              "<table border=\"1\" class=\"dataframe\">\n",
              "  <thead>\n",
              "    <tr style=\"text-align: right;\">\n",
              "      <th></th>\n",
              "      <th>Date</th>\n",
              "      <th>Firm bought from</th>\n",
              "      <th>Buying price</th>\n",
              "      <th>Customer</th>\n",
              "      <th>Selling price</th>\n",
              "      <th>Quantity sold</th>\n",
              "    </tr>\n",
              "  </thead>\n",
              "  <tbody>\n",
              "    <tr>\n",
              "      <th>0</th>\n",
              "      <td>21/08/23</td>\n",
              "      <td>Vendor6</td>\n",
              "      <td>72.11</td>\n",
              "      <td>Customer7</td>\n",
              "      <td>91.58</td>\n",
              "      <td>44</td>\n",
              "    </tr>\n",
              "    <tr>\n",
              "      <th>1</th>\n",
              "      <td>21/08/23</td>\n",
              "      <td>Vendor4</td>\n",
              "      <td>75.08</td>\n",
              "      <td>Customer7</td>\n",
              "      <td>83.71</td>\n",
              "      <td>17</td>\n",
              "    </tr>\n",
              "    <tr>\n",
              "      <th>2</th>\n",
              "      <td>21/08/23</td>\n",
              "      <td>Vendor7</td>\n",
              "      <td>83.93</td>\n",
              "      <td>Customer2</td>\n",
              "      <td>103.76</td>\n",
              "      <td>15</td>\n",
              "    </tr>\n",
              "    <tr>\n",
              "      <th>3</th>\n",
              "      <td>21/08/23</td>\n",
              "      <td>Vendor7</td>\n",
              "      <td>52.01</td>\n",
              "      <td>Customer3</td>\n",
              "      <td>64.53</td>\n",
              "      <td>7</td>\n",
              "    </tr>\n",
              "    <tr>\n",
              "      <th>4</th>\n",
              "      <td>21/08/23</td>\n",
              "      <td>Vendor2</td>\n",
              "      <td>98.91</td>\n",
              "      <td>Customer5</td>\n",
              "      <td>140.92</td>\n",
              "      <td>1</td>\n",
              "    </tr>\n",
              "  </tbody>\n",
              "</table>\n",
              "</div>"
            ],
            "text/plain": [
              "       Date Firm bought from  Buying price   Customer  Selling price  \\\n",
              "0  21/08/23          Vendor6         72.11  Customer7          91.58   \n",
              "1  21/08/23          Vendor4         75.08  Customer7          83.71   \n",
              "2  21/08/23          Vendor7         83.93  Customer2         103.76   \n",
              "3  21/08/23          Vendor7         52.01  Customer3          64.53   \n",
              "4  21/08/23          Vendor2         98.91  Customer5         140.92   \n",
              "\n",
              "   Quantity sold  \n",
              "0             44  \n",
              "1             17  \n",
              "2             15  \n",
              "3              7  \n",
              "4              1  "
            ]
          },
          "execution_count": 5,
          "metadata": {},
          "output_type": "execute_result"
        }
      ],
      "source": [
        "df.head()"
      ]
    },
    {
      "cell_type": "markdown",
      "metadata": {
        "id": "84cELbw4a9tC"
      },
      "source": [
        "1.**Overall gross margin**"
      ]
    },
    {
      "cell_type": "code",
      "execution_count": 6,
      "metadata": {
        "colab": {
          "base_uri": "https://localhost:8080/"
        },
        "id": "ezkjzjQEX3dN",
        "outputId": "9bca39f1-23fd-4495-fe6e-e8207032109f"
      },
      "outputs": [
        {
          "name": "stdout",
          "output_type": "stream",
          "text": [
            "Overall Gross Margin: 31482.75\n"
          ]
        }
      ],
      "source": [
        "df['Total Revenue'] = df['Selling price'] * df['Quantity sold']\n",
        "df['Total Cost'] = df['Buying price'] * df['Quantity sold']\n",
        "gross_margin = df['Total Revenue'].sum() - df['Total Cost'].sum()\n",
        "print(\"Overall Gross Margin: {:.2f}\".format(gross_margin))\n"
      ]
    },
    {
      "cell_type": "markdown",
      "metadata": {
        "id": "DAIuTsdhbCc_"
      },
      "source": [
        "2. **Most Profitable Vendor**"
      ]
    },
    {
      "cell_type": "code",
      "execution_count": 11,
      "metadata": {
        "colab": {
          "base_uri": "https://localhost:8080/"
        },
        "id": "QkhiaMqna5lm",
        "outputId": "fcbd64b0-d0a6-4d7c-8e5a-7638a303aa38"
      },
      "outputs": [
        {
          "name": "stdout",
          "output_type": "stream",
          "text": [
            "Most Profitable Vendor:  Vendor4\n"
          ]
        }
      ],
      "source": [
        "\n",
        "vendor_profit = df.groupby('Firm bought from')['Total Revenue'].sum() - df.groupby('Firm bought from')['Total Cost'].sum()\n",
        "most_profitable_vendor = vendor_profit.idxmax()\n",
        "print(\"Most Profitable Vendor: \", most_profitable_vendor)"
      ]
    },
    {
      "cell_type": "markdown",
      "metadata": {
        "id": "_UJ8OGRgbHoB"
      },
      "source": [
        "3. **Least Profitable Customer**"
      ]
    },
    {
      "cell_type": "code",
      "execution_count": 13,
      "metadata": {
        "colab": {
          "base_uri": "https://localhost:8080/"
        },
        "id": "m5RMRqbCbGOX",
        "outputId": "27a195e7-12c6-4486-fa95-86a36cc390c2"
      },
      "outputs": [
        {
          "name": "stdout",
          "output_type": "stream",
          "text": [
            "The least profitable customer is Customer3\n"
          ]
        },
        {
          "name": "stderr",
          "output_type": "stream",
          "text": [
            "C:\\Users\\Kala\\AppData\\Local\\Temp\\ipykernel_976\\965867369.py:2: FutureWarning: The default value of numeric_only in DataFrameGroupBy.sum is deprecated. In a future version, numeric_only will default to False. Either specify numeric_only or select only columns which should be valid for the function.\n",
            "  customer_sales = df.groupby([\"Customer\"]).sum()\n"
          ]
        }
      ],
      "source": [
        "customer_profit = df.groupby('Customer')['Total Revenue'].sum() - df.groupby('Customer')['Total Cost'].sum()\n",
        "least_profitable_customer = customer_profit.idxmin()\n",
        "print(\"Least Profitable Customer: \", least_profitable_customer)\n"
      ]
    },
    {
      "cell_type": "code",
      "execution_count": 14,
      "metadata": {},
      "outputs": [
        {
          "name": "stdout",
          "output_type": "stream",
          "text": [
            "The most profitable date was 21/08/23\n",
            "The most profitable day of the week was Monday\n"
          ]
        },
        {
          "name": "stderr",
          "output_type": "stream",
          "text": [
            "C:\\Users\\Kala\\AppData\\Local\\Temp\\ipykernel_976\\104992336.py:3: FutureWarning: The default value of numeric_only in DataFrameGroupBy.sum is deprecated. In a future version, numeric_only will default to False. Either specify numeric_only or select only columns which should be valid for the function.\n",
            "  datewise_sales = df.groupby([\"Date\"]).sum()\n"
          ]
        }
      ],
      "source": [
        "from datetime import datetime\n",
        "\n",
        "datewise_sales = df.groupby([\"Date\"]).sum()\n",
        "datewise_sales[\"Profit\"] = (datewise_sales[\"Selling price\"] - datewise_sales[\"Buying price\"]) * datewise_sales[\"Quantity sold\"]\n",
        "most_profitable_day = datewise_sales[\"Profit\"].idxmax()\n",
        "\n",
        "date = most_profitable_day\n",
        "print(f\"The most profitable date was {date}\")\n",
        "\n",
        "# Convert the most profitable date to a datetime object\n",
        "most_profitable_day_datetime = datetime.strptime(date, '%d/%m/%y')\n",
        "\n",
        "most_profitable_day_of_week = most_profitable_day_datetime.strftime('%A')\n",
        "print(f\"The most profitable day of the week was {most_profitable_day_of_week}\")"
      ]
    },
    {
      "cell_type": "code",
      "execution_count": 16,
      "metadata": {},
      "outputs": [
        {
          "name": "stdout",
          "output_type": "stream",
          "text": [
            "The least profitable date was 27/08/23\n",
            "The least profitable day of the week was Sunday\n"
          ]
        },
        {
          "name": "stderr",
          "output_type": "stream",
          "text": [
            "C:\\Users\\Kala\\AppData\\Local\\Temp\\ipykernel_976\\3296559147.py:1: FutureWarning: The default value of numeric_only in DataFrameGroupBy.sum is deprecated. In a future version, numeric_only will default to False. Either specify numeric_only or select only columns which should be valid for the function.\n",
            "  datewise_sales = df.groupby([\"Date\"]).sum()\n"
          ]
        }
      ],
      "source": [
        "datewise_sales = df.groupby([\"Date\"]).sum()\n",
        "datewise_sales[\"Profit\"] = (datewise_sales[\"Selling price\"] - datewise_sales[\"Buying price\"]) * datewise_sales[\"Quantity sold\"]\n",
        "most_profitable_day = datewise_sales[\"Profit\"].argmin()\n",
        "\n",
        "date = datewise_sales.index[most_profitable_day]  # No need to use strftime()\n",
        "print(f\"The least profitable date was {date}\")\n",
        "\n",
        "dt = datetime.strptime(date, \"%d/%m/%y\")\n",
        "print(f\"The least profitable day of the week was {dt.strftime('%A')}\")"
      ]
    },
    {
      "cell_type": "markdown",
      "metadata": {
        "id": "l3QJrnFDo1nl"
      },
      "source": [
        "6. **3-day average of the daily gross profit for dataset_2**"
      ]
    },
    {
      "cell_type": "code",
      "execution_count": 20,
      "metadata": {
        "id": "DztTWYX3vfub"
      },
      "outputs": [],
      "source": [
        "data = pd.read_csv(r\"data\\sales_data_2.csv\")"
      ]
    },
    {
      "cell_type": "code",
      "execution_count": 26,
      "metadata": {
        "id": "UGZt6YAEb8Id"
      },
      "outputs": [],
      "source": [
        "data['Total Revenue'] = data['Selling price'] * data['Quantity sold']\n",
        "data['Total Cost'] = data['Buying price'] * data['Quantity sold']\n",
        "data['Gross Profit'] = data['Total Revenue'] - data['Total Cost']\n",
        "data['3-Day Avg Gross Profit'] = data['Gross Profit'].rolling(3).mean()"
      ]
    },
    {
      "cell_type": "code",
      "execution_count": 28,
      "metadata": {
        "colab": {
          "base_uri": "https://localhost:8080/",
          "height": 423
        },
        "id": "IVtEbWiro7n2",
        "outputId": "2dda7911-c4d7-4c00-886b-619239345069"
      },
      "outputs": [
        {
          "data": {
            "text/html": [
              "<div>\n",
              "<style scoped>\n",
              "    .dataframe tbody tr th:only-of-type {\n",
              "        vertical-align: middle;\n",
              "    }\n",
              "\n",
              "    .dataframe tbody tr th {\n",
              "        vertical-align: top;\n",
              "    }\n",
              "\n",
              "    .dataframe thead th {\n",
              "        text-align: right;\n",
              "    }\n",
              "</style>\n",
              "<table border=\"1\" class=\"dataframe\">\n",
              "  <thead>\n",
              "    <tr style=\"text-align: right;\">\n",
              "      <th></th>\n",
              "      <th>Date</th>\n",
              "      <th>Firm bought from</th>\n",
              "      <th>Buying price</th>\n",
              "      <th>Quantity bought</th>\n",
              "      <th>Customer</th>\n",
              "      <th>Selling price</th>\n",
              "      <th>Quantity sold</th>\n",
              "      <th>Gross_Profit</th>\n",
              "      <th>3-Day Rolling Average</th>\n",
              "      <th>Total Revenue</th>\n",
              "      <th>Total Cost</th>\n",
              "      <th>Gross Profit</th>\n",
              "      <th>3-Day Avg Gross Profit</th>\n",
              "    </tr>\n",
              "  </thead>\n",
              "  <tbody>\n",
              "    <tr>\n",
              "      <th>0</th>\n",
              "      <td>2023-08-21</td>\n",
              "      <td>Vendor6</td>\n",
              "      <td>72.11</td>\n",
              "      <td>60</td>\n",
              "      <td>Customer7</td>\n",
              "      <td>91.58</td>\n",
              "      <td>44</td>\n",
              "      <td>856.68</td>\n",
              "      <td>NaN</td>\n",
              "      <td>4029.52</td>\n",
              "      <td>3172.84</td>\n",
              "      <td>856.68</td>\n",
              "      <td>NaN</td>\n",
              "    </tr>\n",
              "    <tr>\n",
              "      <th>1</th>\n",
              "      <td>2023-08-21</td>\n",
              "      <td>Vendor4</td>\n",
              "      <td>75.08</td>\n",
              "      <td>92</td>\n",
              "      <td>Customer7</td>\n",
              "      <td>83.71</td>\n",
              "      <td>17</td>\n",
              "      <td>146.71</td>\n",
              "      <td>NaN</td>\n",
              "      <td>1423.07</td>\n",
              "      <td>1276.36</td>\n",
              "      <td>146.71</td>\n",
              "      <td>NaN</td>\n",
              "    </tr>\n",
              "    <tr>\n",
              "      <th>2</th>\n",
              "      <td>2023-08-21</td>\n",
              "      <td>Vendor7</td>\n",
              "      <td>83.93</td>\n",
              "      <td>16</td>\n",
              "      <td>Customer2</td>\n",
              "      <td>103.76</td>\n",
              "      <td>15</td>\n",
              "      <td>297.45</td>\n",
              "      <td>433.613333</td>\n",
              "      <td>1556.40</td>\n",
              "      <td>1258.95</td>\n",
              "      <td>297.45</td>\n",
              "      <td>433.613333</td>\n",
              "    </tr>\n",
              "    <tr>\n",
              "      <th>3</th>\n",
              "      <td>2023-08-21</td>\n",
              "      <td>Vendor7</td>\n",
              "      <td>52.01</td>\n",
              "      <td>62</td>\n",
              "      <td>Customer3</td>\n",
              "      <td>64.53</td>\n",
              "      <td>7</td>\n",
              "      <td>87.64</td>\n",
              "      <td>177.266667</td>\n",
              "      <td>451.71</td>\n",
              "      <td>364.07</td>\n",
              "      <td>87.64</td>\n",
              "      <td>177.266667</td>\n",
              "    </tr>\n",
              "    <tr>\n",
              "      <th>4</th>\n",
              "      <td>2023-08-21</td>\n",
              "      <td>Vendor2</td>\n",
              "      <td>98.91</td>\n",
              "      <td>1</td>\n",
              "      <td>Customer5</td>\n",
              "      <td>140.92</td>\n",
              "      <td>1</td>\n",
              "      <td>42.01</td>\n",
              "      <td>142.366667</td>\n",
              "      <td>140.92</td>\n",
              "      <td>98.91</td>\n",
              "      <td>42.01</td>\n",
              "      <td>142.366667</td>\n",
              "    </tr>\n",
              "  </tbody>\n",
              "</table>\n",
              "</div>"
            ],
            "text/plain": [
              "         Date Firm bought from  Buying price  Quantity bought   Customer  \\\n",
              "0  2023-08-21          Vendor6         72.11               60  Customer7   \n",
              "1  2023-08-21          Vendor4         75.08               92  Customer7   \n",
              "2  2023-08-21          Vendor7         83.93               16  Customer2   \n",
              "3  2023-08-21          Vendor7         52.01               62  Customer3   \n",
              "4  2023-08-21          Vendor2         98.91                1  Customer5   \n",
              "\n",
              "   Selling price  Quantity sold  Gross_Profit  3-Day Rolling Average  \\\n",
              "0          91.58             44        856.68                    NaN   \n",
              "1          83.71             17        146.71                    NaN   \n",
              "2         103.76             15        297.45             433.613333   \n",
              "3          64.53              7         87.64             177.266667   \n",
              "4         140.92              1         42.01             142.366667   \n",
              "\n",
              "   Total Revenue  Total Cost  Gross Profit  3-Day Avg Gross Profit  \n",
              "0        4029.52     3172.84        856.68                     NaN  \n",
              "1        1423.07     1276.36        146.71                     NaN  \n",
              "2        1556.40     1258.95        297.45              433.613333  \n",
              "3         451.71      364.07         87.64              177.266667  \n",
              "4         140.92       98.91         42.01              142.366667  "
            ]
          },
          "execution_count": 28,
          "metadata": {},
          "output_type": "execute_result"
        }
      ],
      "source": [
        "data.head()"
      ]
    },
    {
      "cell_type": "markdown",
      "metadata": {
        "id": "sLINzXkcqK73"
      },
      "source": [
        "7. **The 3-day mean is varying from 18 to 1673 and there are  clear spikes in the variation on 3 day basis**"
      ]
    },
    {
      "cell_type": "code",
      "execution_count": 74,
      "metadata": {
        "colab": {
          "base_uri": "https://localhost:8080/"
        },
        "id": "gwX63Cd9yBSh",
        "outputId": "6fc33ffa-16a6-4ff0-f43c-46a1ba2f3379"
      },
      "outputs": [
        {
          "data": {
            "text/plain": [
              "0            NaN\n",
              "1            NaN\n",
              "2     433.613333\n",
              "3     177.266667\n",
              "4     142.366667\n",
              "         ...    \n",
              "65    552.863333\n",
              "66    552.070000\n",
              "67    479.726667\n",
              "68    386.093333\n",
              "69    366.720000\n",
              "Name: 3-Day Avg Gross Profit, Length: 70, dtype: float64"
            ]
          },
          "execution_count": 74,
          "metadata": {},
          "output_type": "execute_result"
        }
      ],
      "source": [
        "data['3-Day Avg Gross Profit']\n"
      ]
    },
    {
      "cell_type": "code",
      "execution_count": 29,
      "metadata": {
        "colab": {
          "base_uri": "https://localhost:8080/"
        },
        "id": "vHX9GPAfo-xt",
        "outputId": "80d2f65e-9a86-4612-a0b0-a550bde04b7a"
      },
      "outputs": [
        {
          "data": {
            "text/plain": [
              "18.25"
            ]
          },
          "execution_count": 29,
          "metadata": {},
          "output_type": "execute_result"
        }
      ],
      "source": [
        "#Minimum value of 3-Day Avg Gross Profit\n",
        "data['3-Day Avg Gross Profit'].min()\n"
      ]
    },
    {
      "cell_type": "code",
      "execution_count": 30,
      "metadata": {
        "colab": {
          "base_uri": "https://localhost:8080/"
        },
        "id": "LX58JE7vpsX4",
        "outputId": "f65e1b28-e023-4eed-b3c2-05660fa5ab17"
      },
      "outputs": [
        {
          "data": {
            "text/plain": [
              "1673.4699999999996"
            ]
          },
          "execution_count": 30,
          "metadata": {},
          "output_type": "execute_result"
        }
      ],
      "source": [
        "#Maximum value of 3-Day Avg Gross Profit\n",
        "data['3-Day Avg Gross Profit'].max()"
      ]
    },
    {
      "cell_type": "markdown",
      "metadata": {
        "id": "DZ11I8R1rLoa"
      },
      "source": [
        "**8**"
      ]
    },
    {
      "cell_type": "code",
      "execution_count": 33,
      "metadata": {},
      "outputs": [
        {
          "data": {
            "image/png": "[encoded data removed]",
            "text/plain": [
              "<Figure size 1200x600 with 1 Axes>"
            ]
          },
          "metadata": {},
          "output_type": "display_data"
        }
      ],
      "source": [
        "data = data.sort_values(by='Date')\n",
        "\n",
        "data['Daily Gross Profit'] = data['Selling price'] - data['Buying price']\n",
        "\n",
        "data['3-Day Rolling Average'] = data['Daily Gross Profit'].rolling(window=3).mean()\n",
        "\n",
        "plt.figure(figsize=(12, 6))\n",
        "plt.plot(data['Date'], data['3-Day Rolling Average'], label='3-Day Avg', color='blue')\n",
        "plt.plot(data['Date'], data['Daily Gross Profit'], label='Daily Profit', color='green', alpha=0.5)\n",
        "\n",
        "plt.xlabel('Date')\n",
        "plt.ylabel('Profit')\n",
        "plt.title('3-Day Rolling Average vs. Daily Gross Profit')\n",
        "plt.legend()\n",
        "plt.grid(True)\n",
        "\n",
        "plt.show()"
      ]
    },
    {
      "cell_type": "markdown",
      "metadata": {
        "id": "B64R2BbFrjU3"
      },
      "source": [
        " **8a. The vendor 8  is  having the lowest gross profit**"
      ]
    },
    {
      "cell_type": "code",
      "execution_count": 35,
      "metadata": {},
      "outputs": [],
      "source": [
        "m=len(data['Firm bought from'].unique())"
      ]
    },
    {
      "cell_type": "code",
      "execution_count": 36,
      "metadata": {},
      "outputs": [
        {
          "name": "stdout",
          "output_type": "stream",
          "text": [
            "Threshold for vendors : 314.8275\n",
            "Firm bought from\n",
            "Vendor8    253.74\n",
            "Name: Gross_Profit, dtype: float64\n"
          ]
        }
      ],
      "source": [
        "df['Gross_Profit'] = (df['Selling price'] - df['Buying price']) * df['Quantity sold']\n",
        "vendor_gross_profit = df.groupby('Firm bought from')['Gross_Profit'].sum()\n",
        "threshold_percentage = 0.10  \n",
        "# Calculate the vendor threshold\n",
        "total_gross_profit = df['Gross_Profit'].sum()\n",
        "vendor_threshold = (total_gross_profit * threshold_percentage)/m\n",
        "print(\"Threshold for vendors :\",vendor_threshold)\n",
        "underperforming_vendors = vendor_gross_profit[vendor_gross_profit < vendor_threshold]\n",
        "print(underperforming_vendors)"
      ]
    },
    {
      "cell_type": "markdown",
      "metadata": {
        "id": "7fClxqmxr4A7"
      },
      "source": [
        "**8b. After anlayzing the profit of the customers , every customer shown thier unique potenential and hypothetical to let go of any customer**"
      ]
    },
    {
      "cell_type": "code",
      "execution_count": 38,
      "metadata": {},
      "outputs": [
        {
          "name": "stdout",
          "output_type": "stream",
          "text": [
            "     Customer  Gross_Profit  Average_Gross_Profit\n",
            "0   Customer1       5310.57            885.095000\n",
            "1  Customer10       3692.44            738.488000\n",
            "8   Customer8       6498.91            649.891000\n",
            "4   Customer4       3337.37            556.228333\n",
            "2   Customer2       4215.67            421.567000\n",
            "9   Customer9       1929.08            385.816000\n",
            "7   Customer7       2197.62            313.945714\n",
            "6   Customer6       1930.76            275.822857\n",
            "5   Customer5       1315.28            187.897143\n",
            "3   Customer3       1055.05            150.721429\n"
          ]
        }
      ],
      "source": [
        "\n",
        "customer_gross_profit = df.groupby('Customer')['Gross_Profit'].sum().reset_index()\n",
        "customer_gross_profit['Average_Gross_Profit'] = customer_gross_profit['Gross_Profit'] / df.groupby('Customer')['Gross_Profit'].count().reset_index()['Gross_Profit']\n",
        "sorted_customers = customer_gross_profit.sort_values(by='Average_Gross_Profit', ascending=False)\n",
        "print(sorted_customers)"
      ]
    },
    {
      "cell_type": "markdown",
      "metadata": {},
      "source": [
        "***calculate the 25th, 50th (median), and 75th percentiles for both buying and selling prices***"
      ]
    },
    {
      "cell_type": "code",
      "execution_count": 41,
      "metadata": {},
      "outputs": [
        {
          "name": "stdout",
          "output_type": "stream",
          "text": [
            "Buying Price Percentiles (25th, Median, 75th): [29.9  60.76 78.32]\n",
            "Selling Price Percentiles (25th, Median, 75th): [ 38.975   78.99   103.3975]\n"
          ]
        }
      ],
      "source": [
        "buying_price_percentiles = np.percentile(data['Buying price'], [25, 50, 75])\n",
        "\n",
        "selling_price_percentiles = np.percentile(data['Selling price'], [25, 50, 75])\n",
        "\n",
        "print(\"Buying Price Percentiles (25th, Median, 75th):\", buying_price_percentiles)\n",
        "print(\"Selling Price Percentiles (25th, Median, 75th):\", selling_price_percentiles)"
      ]
    },
    {
      "cell_type": "code",
      "execution_count": 42,
      "metadata": {},
      "outputs": [
        {
          "data": {
            "image/png": "[encoded data removed]",
            "text/plain": [
              "<Figure size 1000x600 with 1 Axes>"
            ]
          },
          "metadata": {},
          "output_type": "display_data"
        }
      ],
      "source": [
        "# Create a box plot to visualize percentiles\n",
        "plt.figure(figsize=(10, 6))\n",
        "plt.boxplot([df['Buying price'], df['Selling price']], labels=['Buying price','Selling price'])\n",
        "plt.title('Box Plot of Buying and Selling Prices')\n",
        "plt.ylabel('Price')\n",
        "\n",
        "percentiles = [25, 50, 75]\n",
        "percentile_values = [\n",
        "    [np.percentile(df['Buying price'], p) for p in percentiles],\n",
        "    [np.percentile(df['Selling price'], p) for p in percentiles]\n",
        "]\n",
        "\n",
        "for i, label in enumerate(['Buying', 'Selling']):\n",
        "    for j, p in enumerate(percentiles):\n",
        "        plt.scatter([i + 1], [percentile_values[i][j]], color='red', marker='o', label=f'{label} {p}th Percentile')\n",
        "\n",
        "plt.legend()\n",
        "\n",
        "plt.show()"
      ]
    },
    {
      "cell_type": "markdown",
      "metadata": {},
      "source": [
        "***Sapota’s prices fall below the 25th percentile or above the 75th percentile***"
      ]
    },
    {
      "cell_type": "code",
      "execution_count": 43,
      "metadata": {},
      "outputs": [
        {
          "name": "stdout",
          "output_type": "stream",
          "text": [
            "Percentage of times Sapota's prices fall below the 25th percentile: 25.71%\n",
            "Percentage of times Sapota's prices fall above the 75th percentile: 25.71%\n"
          ]
        }
      ],
      "source": [
        "percentile_25 = df['Gross_Profit'].quantile(0.25)\n",
        "percentile_75 = df['Gross_Profit'].quantile(0.75)\n",
        "\n",
        "q25 = len(df[df['Gross_Profit'] < percentile_25])\n",
        "q75 = len(df[df['Gross_Profit'] > percentile_75])\n",
        "\n",
        "\n",
        "percentage_below_25th = (q25 / len(data)) * 100\n",
        "percentage_above_75th = (q75 / len(data)) * 100\n",
        "\n",
        "print(f\"Percentage of times Sapota's prices fall below the 25th percentile: {percentage_below_25th:.2f}%\")\n",
        "print(f\"Percentage of times Sapota's prices fall above the 75th percentile: {percentage_above_75th:.2f}%\")"
      ]
    },
    {
      "cell_type": "code",
      "execution_count": 54,
      "metadata": {
        "colab": {
          "base_uri": "https://localhost:8080/"
        },
        "id": "UFK6ff0ZtB4p",
        "outputId": "4401932a-ab0c-48a0-a0cf-8f8eadee5e1b"
      },
      "outputs": [
        {
          "name": "stdout",
          "output_type": "stream",
          "text": [
            "Below 25th percentile frequency: 18\n",
            "Above 75th percentile frequency: 21\n"
          ]
        }
      ],
      "source": [
        "below_25th_percentile = (data['Buying price'] < buying_price_percentiles[0.25]) | (data['Selling price'] < selling_price_percentiles[0.25])\n",
        "above_75th_percentile = (data['Buying price'] > buying_price_percentiles[0.75]) | (data['Selling price'] > selling_price_percentiles[0.75])\n",
        "\n",
        "print(\"Below 25th percentile frequency:\", below_25th_percentile.sum())\n",
        "print(\"Above 75th percentile frequency:\", above_75th_percentile.sum())"
      ]
    },
    {
      "cell_type": "markdown",
      "metadata": {
        "id": "YTXw9JDKuQmn"
      },
      "source": [
        "11"
      ]
    },
    {
      "cell_type": "markdown",
      "metadata": {
        "id": "a0beXgL9udDG"
      },
      "source": [
        "**As you can see vendor 4 is having high profit considering other vendors and thats why Bharath is saying to honor vendor 4 and after honoring him the there is a chance in increase of the gross margin and he can be an asset to the business**"
      ]
    },
    {
      "cell_type": "code",
      "execution_count": 45,
      "metadata": {
        "colab": {
          "base_uri": "https://localhost:8080/"
        },
        "id": "BMgEX7PFtOoK",
        "outputId": "21dc5c0d-ff2a-41c1-aecd-c90c660cc803"
      },
      "outputs": [
        {
          "data": {
            "text/plain": [
              "Firm bought from\n",
              "Vendor1     1555.59\n",
              "Vendor10    3040.62\n",
              "Vendor2     1296.98\n",
              "Vendor3     6370.67\n",
              "Vendor4     6903.31\n",
              "Vendor5     1616.14\n",
              "Vendor6     1217.95\n",
              "Vendor7     4961.05\n",
              "Vendor8      253.74\n",
              "Vendor9     4266.70\n",
              "dtype: float64"
            ]
          },
          "execution_count": 45,
          "metadata": {},
          "output_type": "execute_result"
        }
      ],
      "source": [
        "vendor_profit"
      ]
    },
    {
      "cell_type": "markdown",
      "metadata": {
        "id": "TCAOQTJgwmxS"
      },
      "source": [
        "12. **Max gross margin the firm could have in that branch**"
      ]
    },
    {
      "cell_type": "code",
      "execution_count": 78,
      "metadata": {
        "colab": {
          "base_uri": "https://localhost:8080/"
        },
        "id": "adiTDEcxubqu",
        "outputId": "bf5c5404-63d0-448a-82af-47c53476fde3"
      },
      "outputs": [
        {
          "name": "stdout",
          "output_type": "stream",
          "text": [
            "Vendor with Highest Gross Margin: Vendor4\n",
            "Max Margin of that Vendor: 6903.31\n"
          ]
        }
      ],
      "source": [
        "# Find the vendor with the highest total profit\n",
        "strategic_vendor = vendor_profit.idxmax()\n",
        "max_margin = vendor_profit.max()\n",
        "print(\"Vendor with Highest Gross Margin:\", strategic_vendor)\n",
        "print(\"Max Margin of that Vendor: {:.2f}\".format(max_margin))\n"
      ]
    },
    {
      "cell_type": "markdown",
      "metadata": {
        "id": "7zDmH0AuwuA4"
      },
      "source": [
        "13. **Increaing and decreasing the price by 1 and analyzing the chnages**"
      ]
    },
    {
      "cell_type": "code",
      "execution_count": 92,
      "metadata": {
        "colab": {
          "base_uri": "https://localhost:8080/"
        },
        "id": "O3li2B7RwrpN",
        "outputId": "14d90218-7a59-4bd5-af43-65028858ec17"
      },
      "outputs": [
        {
          "name": "stdout",
          "output_type": "stream",
          "text": [
            "Change in price of Sapota for that Branch icreasing by 1: 5566.55\n"
          ]
        }
      ],
      "source": [
        "# Price Change Increase\n",
        "price_change = 1\n",
        "\n",
        "initial_quantity_sold = data['Quantity sold'].sum()\n",
        "data['New Selling Price'] = data['Selling price'] + price_change\n",
        "new_quantity_sold = data['New Selling Price'] * data['Quantity sold']\n",
        "new_total_quantity_sold = new_quantity_sold.sum()\n",
        "percentage_change_quantity_sold = ((new_total_quantity_sold - initial_quantity_sold) / initial_quantity_sold) * 100\n",
        "\n",
        "# Calculate the percentage change in price\n",
        "percentage_change_price = (price_change / data['Selling price'].mean()) * 100\n",
        "\n",
        "# Calculate price elasticity\n",
        "i_elasticity = percentage_change_quantity_sold / percentage_change_price\n",
        "print(\"Change in price of Sapota for that Branch icreasing by 1: {:.2f}\".format(i_elasticity))\n"
      ]
    },
    {
      "cell_type": "code",
      "execution_count": 93,
      "metadata": {
        "colab": {
          "base_uri": "https://localhost:8080/"
        },
        "id": "SnFZLPvcwxOy",
        "outputId": "20744e34-0b93-4c78-d54f-34213106104e"
      },
      "outputs": [
        {
          "name": "stdout",
          "output_type": "stream",
          "text": [
            "Change in price of Sapota for that Branch decreasing by 1: 5418.72\n"
          ]
        }
      ],
      "source": [
        "# Price Change Increase\n",
        "price_change = 1\n",
        "\n",
        "initial_quantity_sold = data['Quantity sold'].sum()\n",
        "data['New Selling Price'] = data['Selling price'] - price_change\n",
        "new_quantity_sold = data['New Selling Price'] * data['Quantity sold']\n",
        "new_total_quantity_sold = new_quantity_sold.sum()\n",
        "percentage_change_quantity_sold = ((new_total_quantity_sold - initial_quantity_sold) / initial_quantity_sold) * 100\n",
        "\n",
        "# Calculate the percentage change in price\n",
        "percentage_change_price = (price_change / data['Selling price'].mean()) * 100\n",
        "\n",
        "# Calculate price elasticity\n",
        "d_elasticity = percentage_change_quantity_sold / percentage_change_price\n",
        "print(\"Change in price of Sapota for that Branch decreasing by 1: {:.2f}\".format(d_elasticity))\n"
      ]
    },
    {
      "cell_type": "code",
      "execution_count": 94,
      "metadata": {
        "colab": {
          "base_uri": "https://localhost:8080/"
        },
        "id": "D4iMPkba1hDj",
        "outputId": "bb8d81e6-73b3-46ad-8cd0-6e37bf6e4373"
      },
      "outputs": [
        {
          "name": "stdout",
          "output_type": "stream",
          "text": [
            "147.8265714285717\n"
          ]
        }
      ],
      "source": [
        "Total_change = (i_elasticity - d_elasticity)\n",
        "print(Total_change)"
      ]
    },
    {
      "cell_type": "markdown",
      "metadata": {
        "id": "YZJnMVWq3cCZ"
      },
      "source": [
        "**Change of 147 Rs by increasing 1 Rs and decreasing 1 Rs**"
      ]
    },
    {
      "cell_type": "markdown",
      "metadata": {},
      "source": []
    }
  ],
  "metadata": {
    "colab": {
      "provenance": []
    },
    "kernelspec": {
      "display_name": "Python 3",
      "name": "python3"
    },
    "language_info": {
      "codemirror_mode": {
        "name": "ipython",
        "version": 3
      },
      "file_extension": ".py",
      "mimetype": "text/x-python",
      "name": "python",
      "nbconvert_exporter": "python",
      "pygments_lexer": "ipython3",
      "version": "3.10.11"
    }
  },
  "nbformat": 4,
  "nbformat_minor": 0
}
